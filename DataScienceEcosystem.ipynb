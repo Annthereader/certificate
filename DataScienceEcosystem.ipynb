{
 "cells": [
  {
   "cell_type": "markdown",
   "id": "9f3855d0-fc55-4398-aaa1-47813a38772c",
   "metadata": {
    "tags": []
   },
   "source": [
    "# Data Science Tools and Ecosystem"
   ]
  },
  {
   "cell_type": "markdown",
   "id": "6c49ca5a-d932-42f2-8a1c-921310c60400",
   "metadata": {},
   "source": [
    "In this notebook, Data Science Tools and Ecosystem are summarized."
   ]
  },
  {
   "cell_type": "markdown",
   "id": "1e74c3d4-10d8-497c-b9f6-258ea342b101",
   "metadata": {
    "tags": []
   },
   "source": [
    "**objectives**\n",
    "-list popular languages for data science\n",
    "-list common libraries for use in data science\n",
    "-list common data science tools"
   ]
  },
  {
   "cell_type": "markdown",
   "id": "f557ded3-4d41-4d09-b66b-da5d68c745d7",
   "metadata": {},
   "source": [
    "Some of the popular languages that Data Scientists use are:\n",
    "1. Python\n",
    "2. SQL\n",
    "3. R\n",
    "4. C++"
   ]
  },
  {
   "cell_type": "markdown",
   "id": "750fd952-676f-4d3d-8755-d3ae078437d3",
   "metadata": {},
   "source": [
    "Some of the commonly used libraries used by Data Scientists include:\n",
    "1. Pandas\n",
    "2. NumPy\n",
    "3. SciPy\n",
    "4. Matplotlib"
   ]
  },
  {
   "cell_type": "markdown",
   "id": "d91ee2a8-10c1-4634-bedb-80c0bfee2a05",
   "metadata": {},
   "source": [
    "| Data Science Tools |\n",
    "|----------|\n",
    "|Weka|\n",
    "|Tensorflow.js|\n",
    "| MLlib|"
   ]
  },
  {
   "cell_type": "markdown",
   "id": "c965c2f1-6b89-4c38-bba4-fec96f1ddc5f",
   "metadata": {},
   "source": [
    "### Below are a few examples of evaluating arithmetic expressions in Python"
   ]
  },
  {
   "cell_type": "markdown",
   "id": "95ea4c6e-ed3e-4f6e-b0ff-baa6ac053afd",
   "metadata": {},
   "source": [
    "This a simple arithmetic expression to mutiply then add integers."
   ]
  },
  {
   "cell_type": "code",
   "execution_count": 3,
   "id": "60d73ea8-c44e-4054-922f-0ecf7f84b46b",
   "metadata": {
    "tags": []
   },
   "outputs": [
    {
     "data": {
      "text/plain": [
       "17"
      ]
     },
     "execution_count": 3,
     "metadata": {},
     "output_type": "execute_result"
    }
   ],
   "source": [
    "(3*4)+5"
   ]
  },
  {
   "cell_type": "code",
   "execution_count": null,
   "id": "f9ae3e68-fbb1-4b43-ba4e-dd76b55a6870",
   "metadata": {},
   "outputs": [],
   "source": [
    "This will convert 200 minutes to hours by diving by 60"
   ]
  },
  {
   "cell_type": "code",
   "execution_count": 10,
   "id": "a454e592-732f-40cc-b773-be16392c3c07",
   "metadata": {
    "tags": []
   },
   "outputs": [
    {
     "data": {
      "text/plain": [
       "3.3333333333333335"
      ]
     },
     "execution_count": 10,
     "metadata": {},
     "output_type": "execute_result"
    }
   ],
   "source": [
    "(200/60)+0\n"
   ]
  },
  {
   "cell_type": "markdown",
   "id": "b320c558-ddec-4078-98f8-6e4dd28a44c8",
   "metadata": {},
   "source": [
    "## Author\n",
    "Leigh Ann H."
   ]
  }
 ],
 "metadata": {
  "kernelspec": {
   "display_name": "Python",
   "language": "python",
   "name": "conda-env-python-py"
  },
  "language_info": {
   "codemirror_mode": {
    "name": "ipython",
    "version": 3
   },
   "file_extension": ".py",
   "mimetype": "text/x-python",
   "name": "python",
   "nbconvert_exporter": "python",
   "pygments_lexer": "ipython3",
   "version": "3.7.12"
  }
 },
 "nbformat": 4,
 "nbformat_minor": 5
}
